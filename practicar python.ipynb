{
 "cells": [
  {
   "cell_type": "code",
   "execution_count": 20,
   "metadata": {},
   "outputs": [],
   "source": [
    "nombre = \"Sebastien\"\n",
    "apellido = \"Alizo\"\n",
    "edad = 17\n",
    "año= 2024\n",
    "nacimiento = 2007"
   ]
  },
  {
   "cell_type": "code",
   "execution_count": 22,
   "metadata": {},
   "outputs": [
    {
     "name": "stdout",
     "output_type": "stream",
     "text": [
      "hola mundo\n",
      "Me presento Sebastien Alizo\n",
      "Tengo 17\n",
      "<class 'str'>\n",
      "2.0\n",
      "Mi nombre tiene 9 letras\n"
     ]
    }
   ],
   "source": [
    "print (\"hola mundo\")\n",
    "print (f\"Me presento {nombre} {apellido}\") \n",
    "print (f\"Tengo {año - nacimiento}\")\n",
    "print (type(nombre))\n",
    "print ((edad+1)/9)\n",
    "print (f\"Mi nombre tiene {len(nombre)} letras\")"
   ]
  },
  {
   "cell_type": "markdown",
   "metadata": {},
   "source": [
    "# Operaciones "
   ]
  },
  {
   "cell_type": "code",
   "execution_count": 13,
   "metadata": {},
   "outputs": [
    {
     "name": "stdout",
     "output_type": "stream",
     "text": [
      "odnum aloh\n",
      "h\n",
      "o\n",
      "l\n",
      "a\n",
      " \n",
      "m\n",
      "u\n",
      "n\n",
      "d\n",
      "o\n",
      "o\n",
      "A\n",
      "u\n",
      "O\n"
     ]
    }
   ],
   "source": [
    "cadena= \"hola mundo\"\n",
    "c_invertida= cadena[::-1]\n",
    "print(c_invertida)\n",
    "for letra in cadena:\n",
    "    print(letra)    \n",
    "cadenaVocales=\"aeiouAEIOU\"\n",
    "cadenaDos=\"holA mundO\"\n",
    "for letra in cadenaDos:\n",
    "    if letra in cadenaVocales:\n",
    "        print(letra)\n"
   ]
  },
  {
   "cell_type": "markdown",
   "metadata": {},
   "source": [
    "# Practico de cadenas"
   ]
  },
  {
   "cell_type": "code",
   "execution_count": 14,
   "metadata": {},
   "outputs": [
    {
     "name": "stdout",
     "output_type": "stream",
     "text": [
      "0\n",
      "El caracter 4 no existe en la cadena\n"
     ]
    }
   ],
   "source": [
    "cadenaTres=\"abacadabra\"\n",
    "caracter= input(\"ingrese un caracter: \")\n",
    "print(cadenaTres.count(caracter))\n",
    "if cadenaTres.count(caracter)==0:\n",
    "    print(f\"El caracter {caracter} no existe en la cadena\")"
   ]
  },
  {
   "cell_type": "code",
   "execution_count": 15,
   "metadata": {},
   "outputs": [
    {
     "name": "stdout",
     "output_type": "stream",
     "text": [
      "SebastienAlizo\n",
      "SebastienAlizo.\n",
      "Sebastien Alizo.\n",
      "SebastienSebastienSebastien\n",
      "Sebastien\n",
      "Sebastien\n"
     ]
    }
   ],
   "source": [
    "name= \"Sebastien\"\n",
    "surname= \"Alizo\"\n",
    "print(name + surname)\n",
    "print(name + surname + \".\") #nombre completo todo junto y con \".\"\n",
    "print(name + \" \" + surname + \".\") #nombre completo separado por un espacio y con \".\"\n",
    "print(name * 3) #nombre tres veces\n",
    "fullname = name + \" \" + surname\n",
    "justName = \"\"\n",
    "for recorrer in fullname:\n",
    "    if recorrer == \" \":\n",
    "        break\n",
    "    justName += recorrer\n",
    "\n",
    "print(justName)  #imprime el nombre\n",
    "#Otra forma de hacerlo\n",
    "fullName = name + \" \" + surname\n",
    "justName = fullName[:fullName.index(\" \")]\n",
    "print(justName) #imprime el nombre"
   ]
  },
  {
   "cell_type": "code",
   "execution_count": 16,
   "metadata": {},
   "outputs": [
    {
     "name": "stdout",
     "output_type": "stream",
     "text": [
      "Sebastien Alizo\n"
     ]
    }
   ],
   "source": [
    "fullname = \"  Sebastien Alizo  \"\n",
    "fullname = fullname.strip()  # Elimina espacios al inicio y al final\n",
    "\n",
    "print(fullname)  # imprime el nombre sin espacios al inicio y al final"
   ]
  }
 ],
 "metadata": {
  "kernelspec": {
   "display_name": "Python 3",
   "language": "python",
   "name": "python3"
  },
  "language_info": {
   "codemirror_mode": {
    "name": "ipython",
    "version": 3
   },
   "file_extension": ".py",
   "mimetype": "text/x-python",
   "name": "python",
   "nbconvert_exporter": "python",
   "pygments_lexer": "ipython3",
   "version": "3.13.2"
  }
 },
 "nbformat": 4,
 "nbformat_minor": 2
}
