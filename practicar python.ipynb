{
 "cells": [
  {
   "cell_type": "markdown",
   "metadata": {},
   "source": [
    "# Practica de cadenas"
   ]
  },
  {
   "cell_type": "code",
   "execution_count": 3,
   "metadata": {},
   "outputs": [],
   "source": [
    "nombre = \"Sebastien\"\n",
    "apellido = \"Alizo\"\n",
    "edad = 17\n",
    "año= 2024\n",
    "nacimiento = 2007"
   ]
  },
  {
   "cell_type": "code",
   "execution_count": null,
   "metadata": {},
   "outputs": [
    {
     "name": "stdout",
     "output_type": "stream",
     "text": [
      "hola mundo\n",
      "Me presento Sebastien Alizo\n",
      "Tengo 17\n",
      "<class 'str'>\n",
      "2.0\n",
      "Mi nombre tiene 9 letras\n",
      "Hola mundo\n",
      "Hola mundo\n",
      "Como estas\n"
     ]
    }
   ],
   "source": [
    "print (\"hola mundo\")\n",
    "print (f\"Me presento {nombre} {apellido}\") #la \"f\" hace posible unir cadenas y variables\n",
    "print (f\"Tengo {año - nacimiento}\")\n",
    "print (type(nombre))\n",
    "print ((edad+1)/9)\n",
    "print (f\"Mi nombre tiene {len(nombre)} letras\")\n",
    "print (\"Hola\", end=\" \") #el \"end\" hace que no se haga un salto de linea\n",
    "print(\"mundo\")\n",
    "cadena = \"Hola mundo\\nComo estas\" #el \"\\n\" hace un salto de linea\n",
    "print (cadena)"
   ]
  },
  {
   "cell_type": "code",
   "execution_count": 13,
   "metadata": {},
   "outputs": [
    {
     "name": "stdout",
     "output_type": "stream",
     "text": [
      "odnum aloh\n",
      "h\n",
      "o\n",
      "l\n",
      "a\n",
      " \n",
      "m\n",
      "u\n",
      "n\n",
      "d\n",
      "o\n",
      "o\n",
      "A\n",
      "u\n",
      "O\n"
     ]
    }
   ],
   "source": [
    "cadena= \"hola mundo\"\n",
    "c_invertida= cadena[::-1]\n",
    "print(c_invertida)\n",
    "for letra in cadena:\n",
    "    print(letra)    \n",
    "cadenaVocales=\"aeiouAEIOU\"\n",
    "cadenaDos=\"holA mundO\"\n",
    "for letra in cadenaDos:\n",
    "    if letra in cadenaVocales:\n",
    "        print(letra)\n"
   ]
  },
  {
   "cell_type": "markdown",
   "metadata": {},
   "source": [
    "# Practico de cadenas avanzado"
   ]
  },
  {
   "cell_type": "code",
   "execution_count": null,
   "metadata": {},
   "outputs": [
    {
     "name": "stdout",
     "output_type": "stream",
     "text": [
      "0\n",
      "El caracter 5 no existe en la cadena\n"
     ]
    }
   ],
   "source": [
    "cadenaTres=\"abacadabra\"\n",
    "caracter= input(\"ingrese un caracter: \") # se pide al usuario que ingrese un caracter\n",
    "print(cadenaTres.count(caracter))\n",
    "if cadenaTres.count(caracter)==0: # si el caracter no existe en la cadena se imprime que no existe\n",
    "    print(f\"El caracter {caracter} no existe en la cadena\")"
   ]
  },
  {
   "cell_type": "code",
   "execution_count": 9,
   "metadata": {},
   "outputs": [
    {
     "name": "stdout",
     "output_type": "stream",
     "text": [
      "SebastienAlizo\n",
      "SebastienAlizo.\n",
      "Sebastien Alizo.\n",
      "SebastienSebastienSebastien\n",
      "Sebastien\n",
      "Sebastien\n"
     ]
    }
   ],
   "source": [
    "name= \"Sebastien\"\n",
    "surname= \"Alizo\"\n",
    "print(name + surname)\n",
    "print(name + surname + \".\") #nombre completo todo junto y con \".\"\n",
    "print(name + \" \" + surname + \".\") #nombre completo separado por un espacio y con \".\"\n",
    "print(name * 3) #nombre tres veces\n",
    "fullname = name + \" \" + surname\n",
    "justName = \"\"\n",
    "for recorrer in fullname:\n",
    "    if recorrer == \" \":\n",
    "        break\n",
    "    justName += recorrer\n",
    "\n",
    "print(justName)  #imprime el nombre\n",
    "#Otra forma de hacerlo\n",
    "fullName = name + \" \" + surname\n",
    "justName = fullName[:fullName.index(\" \")]\n",
    "print(justName) #imprime el nombre"
   ]
  },
  {
   "cell_type": "code",
   "execution_count": 10,
   "metadata": {},
   "outputs": [
    {
     "name": "stdout",
     "output_type": "stream",
     "text": [
      "Sebastien Alizo\n"
     ]
    }
   ],
   "source": [
    "fullname = \"  Sebastien Alizo  \"\n",
    "fullname = fullname.strip()  # Elimina espacios al inicio y al final\n",
    "\n",
    "print(fullname)  # imprime el nombre sin espacios al inicio y al final"
   ]
  },
  {
   "cell_type": "markdown",
   "metadata": {},
   "source": [
    "# Como usar scanner "
   ]
  },
  {
   "cell_type": "code",
   "execution_count": 13,
   "metadata": {},
   "outputs": [
    {
     "name": "stdout",
     "output_type": "stream",
     "text": [
      "La suma de sus numeros es 10\n"
     ]
    }
   ],
   "source": [
    "num_1 = int(input(\"Ingrese un número: \"))\t# Solicita un número al usuario y lo guarda en la variable num_1\n",
    "num_2 = int(input(\"Ingrese otro número: \")) # el int convierte el input en un numero entero\n",
    "resultado = num_1 + num_2\n",
    "print(\"La suma de sus numeros es\", resultado)  # Concatena los números ingresados"
   ]
  },
  {
   "cell_type": "code",
   "execution_count": null,
   "metadata": {},
   "outputs": [
    {
     "name": "stdout",
     "output_type": "stream",
     "text": [
      "2 x 1 = 2\n",
      "2 x 2 = 4\n",
      "2 x 3 = 6\n",
      "2 x 4 = 8\n",
      "2 x 5 = 10\n",
      "2 x 6 = 12\n",
      "2 x 7 = 14\n",
      "2 x 8 = 16\n",
      "2 x 9 = 18\n",
      "2 x 10 = 20\n"
     ]
    }
   ],
   "source": [
    "#tabla de multiplicar\n",
    "numero = int(input(\"Ingrese un número: \"))\n",
    "for i in range(1, 11): # Recorre los números del 1 al 10, se detiene en el 11\n",
    "    print(f\"{numero} x {i} = {numero * i}\") # Imprime la tabla de multiplicar, en base a la variable numero y la variable i se va incrementando"
   ]
  },
  {
   "cell_type": "code",
   "execution_count": null,
   "metadata": {},
   "outputs": [
    {
     "name": "stdout",
     "output_type": "stream",
     "text": [
      "El área del triángulo es: 12.5\n",
      "El área del circulo es: 50.2656\n"
     ]
    }
   ],
   "source": [
    "#Area de un triangulo\n",
    "base = float(input(\"Ingrese la base del triangulo: \"))\n",
    "altura = float(input(\"Ingrese la altura del triangulo: \"))\n",
    "areaTriangulo = (base * altura) / 2\n",
    "print(f\"El área del triángulo es: {areaTriangulo}\")\n",
    "#Area de un circulo\n",
    "radio = float(input(\"Ingrese el radio del circulo: \"))\n",
    "areaCirculo = 3.1416 * radio ** 2\n",
    "print(f\"El área del circulo es: {areaCirculo}\")\n",
    "\n"
   ]
  },
  {
   "cell_type": "markdown",
   "metadata": {},
   "source": [
    "# Comprobar el tipo de variable"
   ]
  },
  {
   "cell_type": "code",
   "execution_count": null,
   "metadata": {},
   "outputs": [
    {
     "name": "stdout",
     "output_type": "stream",
     "text": [
      "<class 'str'>\n",
      "<class 'int'>\n",
      "True\n",
      "False\n",
      "True\n"
     ]
    }
   ],
   "source": [
    "nombre = \"Sebastien\"\n",
    "edad = 17\n",
    "print(type(nombre)) # imprime el tipo de dato de la variable nombre\n",
    "print(type(edad)) # imprime el tipo de dato de la variable edad\n",
    "print(isinstance(nombre, str)) # verifica si la variable nombre es de tipo str\n",
    "print(isinstance(edad, str)) # verifica si la variable edad es de tipo str (Da false)\n",
    "print(isinstance(edad, int)) # verifica si la variable edad es de tipo int (Da true)"
   ]
  }
 ],
 "metadata": {
  "kernelspec": {
   "display_name": "Python 3",
   "language": "python",
   "name": "python3"
  },
  "language_info": {
   "codemirror_mode": {
    "name": "ipython",
    "version": 3
   },
   "file_extension": ".py",
   "mimetype": "text/x-python",
   "name": "python",
   "nbconvert_exporter": "python",
   "pygments_lexer": "ipython3",
   "version": "3.13.2"
  }
 },
 "nbformat": 4,
 "nbformat_minor": 2
}
